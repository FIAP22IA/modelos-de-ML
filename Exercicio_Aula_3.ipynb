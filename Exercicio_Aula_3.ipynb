{
 "cells": [
  {
   "cell_type": "code",
   "execution_count": null,
   "id": "worse-prize",
   "metadata": {},
   "outputs": [],
   "source": [
    "from sklearn import datasets\n",
    "from sklearn.model_selection import train_test_split\n",
    "from sklearn import svm\n",
    "from sklearn import metrics"
   ]
  },
  {
   "cell_type": "code",
   "execution_count": null,
   "id": "tough-orange",
   "metadata": {},
   "outputs": [],
   "source": [
    "#fazendo o download dos dados direto dos datasets presente na scikit-learn\n",
    "data = datasets.load_breast_cancer()\n",
    "data.feature_names"
   ]
  },
  {
   "cell_type": "code",
   "execution_count": null,
   "id": "radio-roulette",
   "metadata": {},
   "outputs": [],
   "source": [
    "#variável meta (target) -> aquilos que estamos tentando prever\n",
    "#no caso: cancer benigno ou maligno\n",
    "data.target_names"
   ]
  },
  {
   "cell_type": "code",
   "execution_count": null,
   "id": "concerned-madness",
   "metadata": {},
   "outputs": [],
   "source": [
    "#linhas x colunas\n",
    "data.data.shape"
   ]
  },
  {
   "cell_type": "code",
   "execution_count": null,
   "id": "registered-cutting",
   "metadata": {},
   "outputs": [],
   "source": [
    "#visualizando as 5 primeiras amostras\n",
    "data.data[0:5]"
   ]
  },
  {
   "cell_type": "markdown",
   "id": "exciting-christian",
   "metadata": {},
   "source": [
    "## TODO 1\n",
    "> Separe o dataset em conjunto de treino e teste, sendo 70% para treino e 30% para teste"
   ]
  },
  {
   "cell_type": "code",
   "execution_count": null,
   "id": "nearby-definition",
   "metadata": {},
   "outputs": [],
   "source": [
    "#resposta"
   ]
  },
  {
   "cell_type": "markdown",
   "id": "defined-provincial",
   "metadata": {},
   "source": [
    "## TODO 2\n",
    "> Treine um classificador SVM usando kernel linear e outro usando kernel RBF"
   ]
  },
  {
   "cell_type": "code",
   "execution_count": null,
   "id": "reasonable-panic",
   "metadata": {},
   "outputs": [],
   "source": [
    "#resposta linear"
   ]
  },
  {
   "cell_type": "code",
   "execution_count": null,
   "id": "labeled-joint",
   "metadata": {},
   "outputs": [],
   "source": [
    "#resposta rbf"
   ]
  },
  {
   "cell_type": "markdown",
   "id": "suspected-stand",
   "metadata": {},
   "source": [
    "## TODO 3\n",
    "> Faça a predição para o conjunto de teste usando os dois kernels"
   ]
  },
  {
   "cell_type": "code",
   "execution_count": null,
   "id": "human-rehabilitation",
   "metadata": {},
   "outputs": [],
   "source": [
    "#resposta"
   ]
  },
  {
   "cell_type": "markdown",
   "id": "unable-springfield",
   "metadata": {},
   "source": [
    "## TODO 4\n",
    "> Obtenha a Acurácia, Precision e Recall para cada kernel"
   ]
  },
  {
   "cell_type": "code",
   "execution_count": null,
   "id": "organic-cabin",
   "metadata": {},
   "outputs": [],
   "source": [
    "#resposta linear"
   ]
  },
  {
   "cell_type": "code",
   "execution_count": null,
   "id": "primary-haiti",
   "metadata": {},
   "outputs": [],
   "source": [
    "#resposta brf"
   ]
  },
  {
   "cell_type": "markdown",
   "id": "patient-belief",
   "metadata": {},
   "source": [
    "## TODO 5\n",
    "> Você consegue explicar o motivos dos indicadores serem diferentes?"
   ]
  },
  {
   "cell_type": "code",
   "execution_count": null,
   "id": "basic-supervision",
   "metadata": {},
   "outputs": [],
   "source": [
    "#resposta"
   ]
  },
  {
   "cell_type": "markdown",
   "id": "brilliant-registration",
   "metadata": {},
   "source": [
    "# KNN"
   ]
  },
  {
   "cell_type": "code",
   "execution_count": null,
   "id": "tired-carbon",
   "metadata": {},
   "outputs": [],
   "source": [
    "from sklearn.neighbors import KNeighborsClassifier\n",
    "import pandas as pd #opcional"
   ]
  },
  {
   "cell_type": "markdown",
   "id": "relevant-array",
   "metadata": {},
   "source": [
    "## TODO 6\n",
    "> Treine o KNN nesse mesmo conjunto de  com diferentes valores de k variando de 5 a 15\n",
    "\n",
    "> Armazene os valores de k e o valor respectivo da acurácia\n",
    "\n",
    "> Como o melhor resultado do KNN se saiu em relação ao melhor resultado do SVM?"
   ]
  },
  {
   "cell_type": "code",
   "execution_count": null,
   "id": "fantastic-perth",
   "metadata": {},
   "outputs": [],
   "source": [
    "# resposta"
   ]
  }
 ],
 "metadata": {
  "kernelspec": {
   "display_name": "Python 3",
   "language": "python",
   "name": "python3"
  },
  "language_info": {
   "codemirror_mode": {
    "name": "ipython",
    "version": 3
   },
   "file_extension": ".py",
   "mimetype": "text/x-python",
   "name": "python",
   "nbconvert_exporter": "python",
   "pygments_lexer": "ipython3",
   "version": "3.7.5"
  }
 },
 "nbformat": 4,
 "nbformat_minor": 5
}
