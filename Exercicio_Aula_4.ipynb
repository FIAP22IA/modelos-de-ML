{
 "cells": [
  {
   "cell_type": "markdown",
   "id": "british-comment",
   "metadata": {},
   "source": [
    "Usando o dataset seeds.csv, encontre o melhor número de clusters para o K-means usando *inertia* e *silhouette coefficient*"
   ]
  },
  {
   "cell_type": "code",
   "execution_count": 1,
   "id": "turkish-catalyst",
   "metadata": {},
   "outputs": [
    {
     "data": {
      "text/html": [
       "<div>\n",
       "<style scoped>\n",
       "    .dataframe tbody tr th:only-of-type {\n",
       "        vertical-align: middle;\n",
       "    }\n",
       "\n",
       "    .dataframe tbody tr th {\n",
       "        vertical-align: top;\n",
       "    }\n",
       "\n",
       "    .dataframe thead th {\n",
       "        text-align: right;\n",
       "    }\n",
       "</style>\n",
       "<table border=\"1\" class=\"dataframe\">\n",
       "  <thead>\n",
       "    <tr style=\"text-align: right;\">\n",
       "      <th></th>\n",
       "      <th>area</th>\n",
       "      <th>perimeter</th>\n",
       "      <th>compactness</th>\n",
       "      <th>length</th>\n",
       "      <th>width</th>\n",
       "      <th>asymmetry_coefficient</th>\n",
       "      <th>groove_length</th>\n",
       "    </tr>\n",
       "  </thead>\n",
       "  <tbody>\n",
       "    <tr>\n",
       "      <th>0</th>\n",
       "      <td>15.26</td>\n",
       "      <td>14.84</td>\n",
       "      <td>0.8710</td>\n",
       "      <td>5.763</td>\n",
       "      <td>3.312</td>\n",
       "      <td>2.221</td>\n",
       "      <td>5.220</td>\n",
       "    </tr>\n",
       "    <tr>\n",
       "      <th>1</th>\n",
       "      <td>14.88</td>\n",
       "      <td>14.57</td>\n",
       "      <td>0.8811</td>\n",
       "      <td>5.554</td>\n",
       "      <td>3.333</td>\n",
       "      <td>1.018</td>\n",
       "      <td>4.956</td>\n",
       "    </tr>\n",
       "    <tr>\n",
       "      <th>2</th>\n",
       "      <td>14.29</td>\n",
       "      <td>14.09</td>\n",
       "      <td>0.9050</td>\n",
       "      <td>5.291</td>\n",
       "      <td>3.337</td>\n",
       "      <td>2.699</td>\n",
       "      <td>4.825</td>\n",
       "    </tr>\n",
       "    <tr>\n",
       "      <th>3</th>\n",
       "      <td>13.84</td>\n",
       "      <td>13.94</td>\n",
       "      <td>0.8955</td>\n",
       "      <td>5.324</td>\n",
       "      <td>3.379</td>\n",
       "      <td>2.259</td>\n",
       "      <td>4.805</td>\n",
       "    </tr>\n",
       "    <tr>\n",
       "      <th>4</th>\n",
       "      <td>16.14</td>\n",
       "      <td>14.99</td>\n",
       "      <td>0.9034</td>\n",
       "      <td>5.658</td>\n",
       "      <td>3.562</td>\n",
       "      <td>1.355</td>\n",
       "      <td>5.175</td>\n",
       "    </tr>\n",
       "  </tbody>\n",
       "</table>\n",
       "</div>"
      ],
      "text/plain": [
       "    area  perimeter  compactness  length  width  asymmetry_coefficient  \\\n",
       "0  15.26      14.84       0.8710   5.763  3.312                  2.221   \n",
       "1  14.88      14.57       0.8811   5.554  3.333                  1.018   \n",
       "2  14.29      14.09       0.9050   5.291  3.337                  2.699   \n",
       "3  13.84      13.94       0.8955   5.324  3.379                  2.259   \n",
       "4  16.14      14.99       0.9034   5.658  3.562                  1.355   \n",
       "\n",
       "   groove_length  \n",
       "0          5.220  \n",
       "1          4.956  \n",
       "2          4.825  \n",
       "3          4.805  \n",
       "4          5.175  "
      ]
     },
     "execution_count": 1,
     "metadata": {},
     "output_type": "execute_result"
    }
   ],
   "source": [
    "import pandas as pd\n",
    "\n",
    "df = pd.read_csv('bases/seeds.csv')\n",
    "del df['grain_variety']\n",
    "df.head()"
   ]
  },
  {
   "cell_type": "code",
   "execution_count": 2,
   "id": "stuck-generation",
   "metadata": {},
   "outputs": [],
   "source": [
    "X = df.values"
   ]
  },
  {
   "cell_type": "markdown",
   "id": "established-aviation",
   "metadata": {},
   "source": [
    "### TO-DO\n",
    "\n",
    "* Crie uma instância do K-means chamada *model* com k clusters (k variando de 1 a 6)\n",
    "* Treine um modelo usando os dados (X) para cada k\n",
    "* adicione o valor de *inertias_* de cada modelo numa lista chamada inertias"
   ]
  },
  {
   "cell_type": "code",
   "execution_count": 17,
   "id": "ongoing-equation",
   "metadata": {},
   "outputs": [],
   "source": [
    "# resposta\n",
    "from sklearn.cluster import KMeans\n",
    "\n",
    "models = [ KMeans(n_clusters=k).fit(X) for k in range(1,6)]\n",
    "inertias = [model.inertia_ for model in models]"
   ]
  },
  {
   "cell_type": "markdown",
   "id": "cleared-dutch",
   "metadata": {},
   "source": [
    "### TO-DO\n",
    "* plote as inércias para determinar o melhor valor de k"
   ]
  },
  {
   "cell_type": "code",
   "execution_count": 18,
   "id": "harmful-seeker",
   "metadata": {},
   "outputs": [
    {
     "data": {
      "image/png": "[encoded data removed]",
      "text/plain": [
       "<Figure size 576x288 with 1 Axes>"
      ]
     },
     "metadata": {
      "needs_background": "light"
     },
     "output_type": "display_data"
    }
   ],
   "source": [
    "import matplotlib.pyplot as plt \n",
    "# resposta\n",
    "plt.figure(figsize=(8,4))\n",
    "plt.plot(range(1,6), inertias, \"bo-\")\n",
    "plt.xlabel(\"$k$\", fontsize=14)\n",
    "plt.ylabel(\"inertia\", fontsize=14)\n",
    "plt.axis([1, 8.5, 10, 2000])\n",
    "plt.show()"
   ]
  },
  {
   "cell_type": "markdown",
   "id": "fancy-mercury",
   "metadata": {},
   "source": [
    "### TO-DO\n",
    "* Encontre o melhor valor de k usando *silhouette coefficient* \n"
   ]
  },
  {
   "cell_type": "code",
   "execution_count": 28,
   "id": "everyday-touch",
   "metadata": {},
   "outputs": [
    {
     "data": {
      "image/png": "[encoded data removed]",
      "text/plain": [
       "<Figure size 576x288 with 1 Axes>"
      ]
     },
     "metadata": {
      "needs_background": "light"
     },
     "output_type": "display_data"
    }
   ],
   "source": [
    "# resposta\n",
    "from sklearn.metrics import silhouette_score\n",
    "silhouette_scores = [silhouette_score(X, model.labels_) for model in models[1:]]\n",
    "\n",
    "print(silhouette_score)\n",
    "\n",
    "plt.figure(figsize=(8, 4))\n",
    "plt.plot(range(2, 6), silhouette_scores, \"bo-\")\n",
    "plt.xlabel(\"$k$\", fontsize=14)\n",
    "plt.ylabel(\"silhouette score\", fontsize=14)\n",
    "plt.axis([1.8, 8.5, 0.55, 0.7])\n",
    "plt.show()\n"
   ]
  },
  {
   "cell_type": "markdown",
   "id": "enabling-interstate",
   "metadata": {},
   "source": [
    "### TO-DO\n",
    "* Treine um cluster hierárquico e veja como essa solução se compara com a do k-means\n",
    "* use o método fit tanto do k-means quanto do cluster hierárquico para comparar os resultados"
   ]
  },
  {
   "cell_type": "code",
   "execution_count": null,
   "id": "opening-shelf",
   "metadata": {},
   "outputs": [],
   "source": [
    "# resposta hclus"
   ]
  },
  {
   "cell_type": "code",
   "execution_count": null,
   "id": "thermal-default",
   "metadata": {},
   "outputs": [],
   "source": [
    "# resposta kmeans"
   ]
  },
  {
   "cell_type": "code",
   "execution_count": null,
   "id": "aggregate-summary",
   "metadata": {},
   "outputs": [],
   "source": []
  }
 ],
 "metadata": {
  "kernelspec": {
   "display_name": "Python 3",
   "language": "python",
   "name": "python3"
  },
  "language_info": {
   "codemirror_mode": {
    "name": "ipython",
    "version": 3
   },
   "file_extension": ".py",
   "mimetype": "text/x-python",
   "name": "python",
   "nbconvert_exporter": "python",
   "pygments_lexer": "ipython3",
   "version": "3.9.9"
  }
 },
 "nbformat": 4,
 "nbformat_minor": 5
}
